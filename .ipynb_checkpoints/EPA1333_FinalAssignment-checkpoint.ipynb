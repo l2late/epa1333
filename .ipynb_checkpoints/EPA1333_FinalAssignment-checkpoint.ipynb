{
 "cells": [
  {
   "cell_type": "code",
   "execution_count": 56,
   "metadata": {},
   "outputs": [],
   "source": [
    "import pandas as pd\n",
    "import requests\n",
    "import xml.etree.ElementTree as etree"
   ]
  },
  {
   "cell_type": "code",
   "execution_count": 57,
   "metadata": {},
   "outputs": [],
   "source": [
    "r = requests.get('http://climatedataapi.worldbank.org/climateweb/rest/v1/country/cru/tas/year/ROU')"
   ]
  },
  {
   "cell_type": "code",
   "execution_count": 58,
   "metadata": {},
   "outputs": [],
   "source": [
    "rou = r.json()"
   ]
  },
  {
   "cell_type": "code",
   "execution_count": 60,
   "metadata": {
    "scrolled": false
   },
   "outputs": [
    {
     "ename": "AttributeError",
     "evalue": "module 'pandas' has no attribute 'read'",
     "output_type": "error",
     "traceback": [
      "\u001b[0;31m---------------------------------------------------------------------------\u001b[0m",
      "\u001b[0;31mAttributeError\u001b[0m                            Traceback (most recent call last)",
      "\u001b[0;32m<ipython-input-60-66ba63122eab>\u001b[0m in \u001b[0;36m<module>\u001b[0;34m()\u001b[0m\n\u001b[0;32m----> 1\u001b[0;31m \u001b[0mrou1\u001b[0m\u001b[0;34m=\u001b[0m\u001b[0mpd\u001b[0m\u001b[0;34m.\u001b[0m\u001b[0mread\u001b[0m\u001b[0;34m(\u001b[0m\u001b[0mrou\u001b[0m\u001b[0;34m)\u001b[0m\u001b[0;34m\u001b[0m\u001b[0m\n\u001b[0m",
      "\u001b[0;31mAttributeError\u001b[0m: module 'pandas' has no attribute 'read'"
     ]
    }
   ],
   "source": [
    "rou1=pd(rou)"
   ]
  },
  {
   "cell_type": "code",
   "execution_count": 51,
   "metadata": {},
   "outputs": [
    {
     "data": {
      "text/plain": [
       "[{'data': 9.215595, 'year': 1901},\n",
       " {'data': 8.389345, 'year': 1902},\n",
       " {'data': 9.500536, 'year': 1903},\n",
       " {'data': 8.901487, 'year': 1904},\n",
       " {'data': 9.12619, 'year': 1905},\n",
       " {'data': 9.529703, 'year': 1906},\n",
       " {'data': 8.557559, 'year': 1907},\n",
       " {'data': 8.688452, 'year': 1908},\n",
       " {'data': 9.134167, 'year': 1909},\n",
       " {'data': 9.970297, 'year': 1910},\n",
       " {'data': 9.2804165, 'year': 1911},\n",
       " {'data': 8.646964, 'year': 1912},\n",
       " {'data': 8.983572, 'year': 1913},\n",
       " {'data': 8.666904, 'year': 1914},\n",
       " {'data': 9.644048, 'year': 1915},\n",
       " {'data': 10.232917, 'year': 1916},\n",
       " {'data': 9.331785, 'year': 1917},\n",
       " {'data': 9.36, 'year': 1918},\n",
       " {'data': 9.254583, 'year': 1919},\n",
       " {'data': 9.094048, 'year': 1920},\n",
       " {'data': 9.204941, 'year': 1921},\n",
       " {'data': 8.660654, 'year': 1922},\n",
       " {'data': 10.258393, 'year': 1923},\n",
       " {'data': 8.967203, 'year': 1924},\n",
       " {'data': 9.769345, 'year': 1925},\n",
       " {'data': 10.119702, 'year': 1926},\n",
       " {'data': 10.095774, 'year': 1927},\n",
       " {'data': 9.114405, 'year': 1928},\n",
       " {'data': 8.522142, 'year': 1929},\n",
       " {'data': 10.030655, 'year': 1930},\n",
       " {'data': 9.103155, 'year': 1931},\n",
       " {'data': 8.745953, 'year': 1932},\n",
       " {'data': 7.817441, 'year': 1933},\n",
       " {'data': 10.322203, 'year': 1934},\n",
       " {'data': 9.100833, 'year': 1935},\n",
       " {'data': 10.068631, 'year': 1936},\n",
       " {'data': 10.06131, 'year': 1937},\n",
       " {'data': 9.667322, 'year': 1938},\n",
       " {'data': 9.578155, 'year': 1939},\n",
       " {'data': 7.712143, 'year': 1940},\n",
       " {'data': 8.37, 'year': 1941},\n",
       " {'data': 8.273214, 'year': 1942},\n",
       " {'data': 9.403631, 'year': 1943},\n",
       " {'data': 9.248988, 'year': 1944},\n",
       " {'data': 9.13631, 'year': 1945},\n",
       " {'data': 9.977202, 'year': 1946},\n",
       " {'data': 9.656904, 'year': 1947},\n",
       " {'data': 9.404524, 'year': 1948},\n",
       " {'data': 9.440536, 'year': 1949},\n",
       " {'data': 10.281191, 'year': 1950},\n",
       " {'data': 10.548988, 'year': 1951},\n",
       " {'data': 10.054643, 'year': 1952},\n",
       " {'data': 9.123095, 'year': 1953},\n",
       " {'data': 8.71756, 'year': 1954},\n",
       " {'data': 9.423392, 'year': 1955},\n",
       " {'data': 8.269583, 'year': 1956},\n",
       " {'data': 9.718869, 'year': 1957},\n",
       " {'data': 9.790238, 'year': 1958},\n",
       " {'data': 9.061488, 'year': 1959},\n",
       " {'data': 9.915476, 'year': 1960},\n",
       " {'data': 9.712143, 'year': 1961},\n",
       " {'data': 9.145536, 'year': 1962},\n",
       " {'data': 8.912262, 'year': 1963},\n",
       " {'data': 8.63119, 'year': 1964},\n",
       " {'data': 8.500714, 'year': 1965},\n",
       " {'data': 10.086191, 'year': 1966},\n",
       " {'data': 9.342024, 'year': 1967},\n",
       " {'data': 9.614226, 'year': 1968},\n",
       " {'data': 8.673572, 'year': 1969},\n",
       " {'data': 9.323274, 'year': 1970},\n",
       " {'data': 9.314762, 'year': 1971},\n",
       " {'data': 9.373571, 'year': 1972},\n",
       " {'data': 8.935476, 'year': 1973},\n",
       " {'data': 9.318512, 'year': 1974},\n",
       " {'data': 9.695715, 'year': 1975},\n",
       " {'data': 8.34875, 'year': 1976},\n",
       " {'data': 9.550298, 'year': 1977},\n",
       " {'data': 8.614226, 'year': 1978},\n",
       " {'data': 9.622976, 'year': 1979},\n",
       " {'data': 8.303095, 'year': 1980},\n",
       " {'data': 9.263631, 'year': 1981},\n",
       " {'data': 9.141191, 'year': 1982},\n",
       " {'data': 9.679703, 'year': 1983},\n",
       " {'data': 9.010774, 'year': 1984},\n",
       " {'data': 8.188571, 'year': 1985},\n",
       " {'data': 9.277739, 'year': 1986},\n",
       " {'data': 8.642202, 'year': 1987},\n",
       " {'data': 9.255714, 'year': 1988},\n",
       " {'data': 9.83381, 'year': 1989},\n",
       " {'data': 10.107559, 'year': 1990},\n",
       " {'data': 8.930774, 'year': 1991},\n",
       " {'data': 9.492976, 'year': 1992},\n",
       " {'data': 9.029345, 'year': 1993},\n",
       " {'data': 10.562619, 'year': 1994},\n",
       " {'data': 9.346905, 'year': 1995},\n",
       " {'data': 9.217024, 'year': 1996},\n",
       " {'data': 8.830774, 'year': 1997},\n",
       " {'data': 9.404345, 'year': 1998},\n",
       " {'data': 10.088809, 'year': 1999},\n",
       " {'data': 10.594881, 'year': 2000},\n",
       " {'data': 9.913511, 'year': 2001},\n",
       " {'data': 10.430476, 'year': 2002},\n",
       " {'data': 9.459227, 'year': 2003},\n",
       " {'data': 9.777441, 'year': 2004},\n",
       " {'data': 9.302619, 'year': 2005},\n",
       " {'data': 9.660953, 'year': 2006},\n",
       " {'data': 10.971429, 'year': 2007},\n",
       " {'data': 10.774226, 'year': 2008},\n",
       " {'data': 10.781309, 'year': 2009},\n",
       " {'data': 10.492812, 'year': 2010},\n",
       " {'data': 10.075417, 'year': 2011},\n",
       " {'data': 10.799427, 'year': 2012}]"
      ]
     },
     "execution_count": 51,
     "metadata": {},
     "output_type": "execute_result"
    }
   ],
   "source": [
    "plt.plot"
   ]
  }
 ],
 "metadata": {
  "kernelspec": {
   "display_name": "Python 3",
   "language": "python",
   "name": "python3"
  },
  "language_info": {
   "codemirror_mode": {
    "name": "ipython",
    "version": 3
   },
   "file_extension": ".py",
   "mimetype": "text/x-python",
   "name": "python",
   "nbconvert_exporter": "python",
   "pygments_lexer": "ipython3",
   "version": "3.6.1"
  }
 },
 "nbformat": 4,
 "nbformat_minor": 2
}
