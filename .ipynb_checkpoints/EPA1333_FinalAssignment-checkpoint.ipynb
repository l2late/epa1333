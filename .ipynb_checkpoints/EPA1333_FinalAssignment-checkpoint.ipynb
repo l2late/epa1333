{
 "cells": [
  {
   "cell_type": "markdown",
   "metadata": {},
   "source": [
    "# TU Delft - EPA1333 - Computer Engineering for Scientific Computing - 2017\n",
    "\n",
    "## Final assignment\n",
    "\n",
    "\n",
    "Group 40:\n",
    "\n",
    "Luca de Laat 4135040\n",
    "\n",
    "Pawel Marciniak 4633482"
   ]
  },
  {
   "cell_type": "markdown",
   "metadata": {},
   "source": [
    "### WORK CELL - to be removed before submission\n",
    "\"analyse which countries are most effecient at reducing CO2 emission/deforestation/overfishing... while staying competitive in the global market. The idea is to find which countries have the most effective policy for fighting climate change at the lowest cost.we'd need to find some kind of index or define one ourselves.\""
   ]
  },
  {
   "cell_type": "code",
   "execution_count": 4,
   "metadata": {},
   "outputs": [],
   "source": [
    "import pandas as pd\n",
    "import requests\n",
    "import xml.etree.ElementTree as etree\n",
    "from pandas_datareader import wb"
   ]
  },
  {
   "cell_type": "code",
   "execution_count": 8,
   "metadata": {
    "collapsed": true
   },
   "outputs": [],
   "source": [
    "#INDICATORS WE CAN USE\n",
    "\n",
    "# EN.ATM.GHGT.KT.CE Total greenhouse gas emissions (kt of CO2 equivalent) \n",
    "\n",
    "# EN.ATM.CO2E.PC    CO2 emissions (metric tons per capita)\n",
    "# http://databank.worldbank.org/data/reports.aspx?source=2&type=metadata&series=EN.ATM.CO2E.PC\n",
    "\n",
    "# NY.GDP.MKTP.CD    GDP (in current US$)\n",
    "\n",
    "# EG.GDP.PUSE.KO.PP.KD GDP per unit of energy use (constant 2011 PPP $ per kg of oil equivalent)\n",
    "# http://databank.worldbank.org/data/reports.aspx?source=2&type=metadata&series=EG.GDP.PUSE.KO.PP.KD\n",
    "\n",
    "# EG.USE.PCAP.KG.OE Energy use (kg of oil equivalent per capita) \n",
    "\n",
    "# EG.FEC.RNEW.ZS    Renewable energy consumption (% of total final energy consumption)\n",
    "\n",
    "# EG.ELC.RNWX.KH    Electricity production from renewable sources, excluding hydroelectric (kWh)\n",
    "\n",
    "# EG.USE.COMM.CL.ZS Alternative and nuclear energy (% of total energy use)\n",
    "# http://databank.worldbank.org/data/reports.aspx?source=2&type=metadata&series=EG.USE.COMM.CL.ZS\n",
    "\n",
    "# EG.ELC.RNEW.ZS    Renewable electricity output (% of total electricity output)\n",
    "# http://databank.worldbank.org/data/reports.aspx?source=2&type=metadata&series=EG.ELC.RNEW.ZS\n",
    "\n",
    "# IQ.CPA.ENRV.XQ    CPIA policy and institutions for environmental sustainability rating (1=low to 6=high)\n",
    "# http://databank.worldbank.org/data/reports.aspx?source=2&type=metadata&series=IQ.CPA.ENVR.XQ\n",
    "\n",
    "# SP.POP.GROW       Population growth (annual %)\n",
    "# http://databank.worldbank.org/data/reports.aspx?source=2&type=metadata&series=SP.POP.GROW"
   ]
  },
  {
   "cell_type": "markdown",
   "metadata": {},
   "source": [
    "We explored World Bank data bases and selected those indicators which we found interesting for our report. The full list of indicators (i.e. data items collected by World Bank) is available through this api link:\n",
    "\n",
    "http://api.worldbank.org/indicators\n",
    "\n",
    "A more convenient way to explore available data is to download the relevant csv / Excel files with list of indicators from the https://data.worldbank.org/data-catalog/ pages, and then reviewing these files to identify interesting indicators to explore. This is what we did. We explored the following sets of indicators:\n",
    "\n",
    "https://data.worldbank.org/data-catalog/climate-change\n",
    "https://data.worldbank.org/data-catalog/world-development-indicators\n",
    "\n",
    "and create the following list of selected indicators to use for our analysis:"
   ]
  },
  {
   "cell_type": "code",
   "execution_count": 14,
   "metadata": {
    "collapsed": true
   },
   "outputs": [],
   "source": [
    "# creating list of interesting indicators \n",
    "# we are going to download all data for these indicators directly from World Bank DB\n",
    "\n",
    "selectedInd = [\n",
    "    'EN.ATM.GHGT.KT.CE', # Total greenhouse gas emissions (kt of CO2 equivalent)\n",
    "    'EN.ATM.CO2E.PC',    # CO2 emissions (metric tons per capita)\n",
    "    'NY.GDP.MKTP.CD'     # GDP (in current US$)\n",
    "]\n",
    "\n",
    "# TO DO: complete this list!"
   ]
  },
  {
   "cell_type": "code",
   "execution_count": 56,
   "metadata": {},
   "outputs": [
    {
     "name": "stdout",
     "output_type": "stream",
     "text": [
      "<class 'pandas.core.frame.DataFrame'>\n",
      "Index: 0 entries\n",
      "Empty DataFrame\n",
      "\n",
      "WB data: downloaded:  EN.ATM.GHGT.KT.CE \n",
      "\n",
      "<class 'pandas.core.frame.DataFrame'>\n",
      "MultiIndex: 7656 entries, (Arab World, 2016) to (Zimbabwe, 1988)\n",
      "Data columns (total 1 columns):\n",
      "EN.ATM.GHGT.KT.CE    5752 non-null float64\n",
      "dtypes: float64(1)\n",
      "memory usage: 84.6+ KB\n"
     ]
    }
   ],
   "source": [
    "# initializing an empty pandas data frame \n",
    "# we need this if we want to come back to this cell from below to re-download the data \n",
    "df = pd.DataFrame() \n",
    "df.info()\n",
    "\n",
    "# downloading data for the first of the indicators\n",
    "# if we try to download all the data at once, there are problems with reindexing of the data frame\n",
    "print('\\n')\n",
    "df = wb.download(indicator=selectedInd[0], country=['all'], start=1988, end=2017)\n",
    "print('WB data: downloaded: ', selectedInd[0], '\\n')\n",
    "df.info()"
   ]
  },
  {
   "cell_type": "code",
   "execution_count": 55,
   "metadata": {},
   "outputs": [
    {
     "name": "stdout",
     "output_type": "stream",
     "text": [
      "WB data: downloaded:  EN.ATM.CO2E.PC\n",
      "WB data: downloaded:  NY.GDP.MKTP.CD\n",
      "\n",
      "\n",
      "<class 'pandas.core.frame.DataFrame'>\n",
      "MultiIndex: 7656 entries, (Arab World, 2016) to (Zimbabwe, 1988)\n",
      "Data columns (total 3 columns):\n",
      "EN.ATM.GHGT.KT.CE    5752 non-null float64\n",
      "EN.ATM.CO2E.PC       6503 non-null float64\n",
      "NY.GDP.MKTP.CD       6903 non-null float64\n",
      "dtypes: float64(3)\n",
      "memory usage: 204.3+ KB\n"
     ]
    }
   ],
   "source": [
    "# now downloading data for the remaining indicators\n",
    "\n",
    "for x in range(1, len(selectedInd)):\n",
    "    df[selectedInd[x]] = wb.download(indicator = selectedInd[x], country=['all'], start=1988, end=2017)\n",
    "    print('WB data: downloaded: ', selectedInd[x])\n",
    "\n",
    "print('\\n')\n",
    "df.info()"
   ]
  },
  {
   "cell_type": "code",
   "execution_count": null,
   "metadata": {
    "collapsed": true
   },
   "outputs": [],
   "source": []
  }
 ],
 "metadata": {
  "kernelspec": {
   "display_name": "Python 3",
   "language": "python",
   "name": "python3"
  },
  "language_info": {
   "codemirror_mode": {
    "name": "ipython",
    "version": 3
   },
   "file_extension": ".py",
   "mimetype": "text/x-python",
   "name": "python",
   "nbconvert_exporter": "python",
   "pygments_lexer": "ipython3",
   "version": "3.6.3"
  }
 },
 "nbformat": 4,
 "nbformat_minor": 2
}
